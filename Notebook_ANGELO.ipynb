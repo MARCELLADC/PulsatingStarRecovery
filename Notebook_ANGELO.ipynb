{
 "cells": [
  {
   "cell_type": "code",
   "execution_count": 1,
   "id": "bc618f6e-216f-49ee-87b0-8dbd28546937",
   "metadata": {},
   "outputs": [
    {
     "name": "stderr",
     "output_type": "stream",
     "text": [
      "WARNING: AstropyDeprecationWarning: The update_default_config function is deprecated and may be removed in a future version. [sncosmo]\n"
     ]
    }
   ],
   "source": [
    "# All modules that  are needed.\n",
    "import os\n",
    "import numpy as np\n",
    "import pandas as pd\n",
    "import matplotlib.pyplot as plt\n",
    "%matplotlib inline   \n",
    "import rubin_sim.maf as maf\n",
    "from rubin_sim.maf.maps import dustMap\n",
    "\n",
    "\n",
    "\n",
    "\n",
    "\n",
    "from PulsatingStarRecovery_ANGELO import PulsatingStarRecovery\n"
   ]
  },
  {
   "cell_type": "code",
   "execution_count": 2,
   "id": "9b8c9a08-5bac-4a58-8ef7-63e04a279e50",
   "metadata": {},
   "outputs": [
    {
     "name": "stdout",
     "output_type": "stream",
     "text": [
      "baseline_v2.0_10yrs\n"
     ]
    }
   ],
   "source": [
    "from rubin_sim.data import get_baseline\n",
    "\n",
    "opsim_fname='/sims_maf/fbs_2.0/baseline/baseline_v2.0_10yrs.db'\n",
    "\n",
    "#runName='baseline_v2.0_10yrs.db'\n",
    "\n",
    "runName = os.path.split(opsim_fname)[-1].replace('.db', '')\n",
    "print(runName)\n",
    "\n",
    "# Connect to the database so we can use it with MAF.\n",
    "opsim_db = maf.OpsimDatabase(opsim_fname)\n",
    "#Finding available database columns with which to express constraints, slices, and metrics\n",
    "#opsim_db.get_column_names(\"observations\")\n",
    "\n"
   ]
  },
  {
   "cell_type": "code",
   "execution_count": 17,
   "id": "3257577a-6824-4b26-b293-e2c7d97f0b91",
   "metadata": {},
   "outputs": [
    {
     "name": "stdout",
     "output_type": "stream",
     "text": [
      "{'sid': array([0]), 'ra': array([1.41186955]), 'dec': array([-1.21747381]), 'distance': 0.05}\n"
     ]
    }
   ],
   "source": [
    "# LMC \n",
    "slicer = maf.UserPointsSlicer(\n",
    "       80.89416666666666,  -69.75611111111111, latLonDeg=True)#,latLonDeg= #badval=-666\n",
    "    #)\n",
    "    # Add any additional information about each object to the slicer\n",
    "#Distance in Mpc\n",
    "slicer.slicePoints[\"distance\"] = 0.05\n",
    "\n",
    "print(slicer.slicePoints)\n",
    "\n",
    "maps = ['DustMap']"
   ]
  },
  {
   "cell_type": "code",
   "execution_count": 18,
   "id": "62e7d772-3ad9-4d2f-8c82-ccd9599a28a2",
   "metadata": {},
   "outputs": [],
   "source": [
    "#This cell  build DataFrame df that contains  the  list of blending stars with magnitudes . Can be empty if you don't wont to consider blending or if you are offline.\n",
    "#In that case comment from import to print\n",
    "\n",
    "dati=[]\n",
    "df=pd.DataFrame(dati,columns=[])\n",
    "\n",
    "#import dl.queryClient as qc\n",
    "#test_ra = test_ra\n",
    "#test_dec = test_dec\n",
    "#table = 'lsst_sim.simdr2'\n",
    "#radius = 0.0002\n",
    "#query = \"select ra,dec,umag,gmag, rmag, imag, zmag, ymag, mu0, gc, mass from {} where q3c_radial_query(ra, dec, {}, {}, {})\".format(table,test_ra,test_dec,radius)\n",
    "#df = qc.query(sql=query ,timeout=1000, fmt='pandas') \n",
    "#print(df)\n",
    "\n",
    " "
   ]
  },
  {
   "cell_type": "code",
   "execution_count": 19,
   "id": "22a00de7-4c7d-47b8-82be-b830db25bf46",
   "metadata": {},
   "outputs": [],
   "source": [
    "#parameters that must be inserted to run the metric PulsatingStarRecovery.py.Possible filenames are (https://github.com/MARCELLADC/PulsatingStarRecovery):\n",
    "filename='./RRab.csv'\n",
    "#filename='./RRc.csv'   #ascii file with the template of pulsating star\n",
    "\n",
    "sigmaFORnoise=1   # sigma for the computation of the error on the magnitude\n",
    "do_remove_saturated=True    #Remove from temporal series saurated visits  \n",
    "factorForDimensionGap=0.75  #parameter used in LcSampling \n",
    "\n",
    "\n",
    "\n",
    "\n",
    "#mymetric = PulsatingStarRecovery(filename,sigmaFORnoise,do_remove_saturated,numberOfHarmonics,factorForDimensionGap,df)\n",
    "#if you are interested in other metrics\n",
    "#maf.BaseMetric.help(doc=True)"
   ]
  },
  {
   "cell_type": "code",
   "execution_count": 20,
   "id": "e03ea0a5-92b8-42d3-b548-dee2581b2cf6",
   "metadata": {},
   "outputs": [],
   "source": [
    "##### Define a sqlconstraint, if we need to just use a (large) subset of the opsim visits\n",
    "#sqlconstraint = None   # no constraint, make all visits available\n",
    "\n",
    "# Examples of other potentially useful sqlconstraints:\n",
    "# sqlconstraint = 'filter = \"r\"'  # just select the visits in a particular filter\n",
    "# sqlconstraint = 'note not like \"%DD%\"'  # don't choose any of the DD field visits\n",
    "# sqlconstraint = 'night < 700'  # only use visits in the first year of the survey\n",
    "#sqlconstraint = 'night < 365' \n",
    "#sqlconstraint = 'proposalID !=1 and note not like \"%DD%\"'\n",
    "#sqlconstraint = 'night < 3650 and proposalID !=1 and note not like \"%DD%\"' \n",
    "sqlconstraint = 'night < 3650'"
   ]
  },
  {
   "cell_type": "code",
   "execution_count": null,
   "id": "f462b0ea-184c-438f-8bc0-80d838cf239a",
   "metadata": {
    "tags": []
   },
   "outputs": [
    {
     "name": "stdout",
     "output_type": "stream",
     "text": [
      "./RRab.csv\n",
      "Querying database observations with constraint night < 3650 for columns ['rotSkyPos', 'numExposures', 'observationStartMJD', 'fieldDec', 'visitExposureTime', 'seeingFwhmEff', 'airmass', 'filter', 'skyBrightness', 'night', 'fiveSigmaDepth', 'fieldRA']\n",
      "Found 2085013 visits\n",
      "Running:  ['PulsatingStarRecovery']\n",
      " distance=, ebv=, e dmod=\n",
      "0.05\n",
      "0.6333438158035278\n",
      "18.494850021680094\n",
      "Useful (at all S/N and NOT saturated)  Nvisits in ugrizy bands\n",
      "57 73 197 199 163 171\n",
      "1.2093260357638833\n",
      "23.100267274489898\n",
      "21.39691148757834\n",
      "22.588962532222972\n",
      "20.234718507554998\n",
      "19.943883036622275\n",
      "19.77368669093968\n"
     ]
    },
    {
     "name": "stderr",
     "output_type": "stream",
     "text": [
      "/data0/sw.tmpfs/lsst_stack-2021.10.13/anaconda3/lib/python3.8/site-packages/gatspy/periodic/lomb_scargle_fast.py:445: UserWarning: The score() method defaults to a slower O[N^2] algorithm.\n",
      "Use the score_frequency_grid() method to access the fast FFT-based algorithm.\n",
      "To silence this warning, set ``silence_warnings=True``\n",
      "  warnings.warn(\"The score() method defaults to a slower O[N^2] \"\n"
     ]
    },
    {
     "name": "stdout",
     "output_type": "stream",
     "text": [
      "Noise level (median vs mean)\n",
      "0.00883424805146138 0.012976457560317105\n",
      "Finding optimal frequency:\n",
      " - Estimated peak width = 0.0018\n",
      " - Using 5 steps per peak; omega_step = 0.000359\n",
      " - User-specified period range:  0.42 to 0.79\n",
      " - Computing periods at 19055 steps\n",
      "Zooming-in on 5 candidate peaks:\n",
      " - Computing periods at 995 steps\n"
     ]
    }
   ],
   "source": [
    "numberOfHarmonics=3\n",
    "mymetric = PulsatingStarRecovery(filename,sigmaFORnoise,do_remove_saturated,numberOfHarmonics,factorForDimensionGap,df)\n",
    "bundle= maf.MetricBundle(mymetric, slicer, sqlconstraint,maps)\n",
    "g = maf.MetricBundleGroup({'PulsatingStarRecovery':bundle }, opsim_db, outDir='./', resultsDb=None)\n",
    "g.runAll()"
   ]
  },
  {
   "cell_type": "code",
   "execution_count": 26,
   "id": "433241cb-f9ac-4740-b32b-c0ca690af0c7",
   "metadata": {
    "tags": []
   },
   "outputs": [],
   "source": [
    "import pickle\n",
    "with open('RRab.p','wb') as fout:\n",
    "       pickle.dump(bundle.metricValues.data, fout)  "
   ]
  },
  {
   "cell_type": "code",
   "execution_count": 33,
   "id": "7279a8d2-7535-4a5d-b33c-b8b4704f2c52",
   "metadata": {},
   "outputs": [],
   "source": [
    "import pickle\n",
    "with open('RRab.p','rb') as fout:\n",
    "    result_RRab=pickle.load(fout)\n"
   ]
  }
 ],
 "metadata": {
  "kernelspec": {
   "display_name": "LSST-2021.10.13 Py3",
   "language": "python",
   "name": "lsst_sims_maf-2021.10.13"
  },
  "language_info": {
   "codemirror_mode": {
    "name": "ipython",
    "version": 3
   },
   "file_extension": ".py",
   "mimetype": "text/x-python",
   "name": "python",
   "nbconvert_exporter": "python",
   "pygments_lexer": "ipython3",
   "version": "3.8.8"
  }
 },
 "nbformat": 4,
 "nbformat_minor": 5
}
