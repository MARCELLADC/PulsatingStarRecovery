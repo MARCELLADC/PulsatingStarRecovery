{
 "cells": [
  {
   "cell_type": "code",
   "execution_count": 1,
   "id": "bc618f6e-216f-49ee-87b0-8dbd28546937",
   "metadata": {},
   "outputs": [
    {
     "name": "stderr",
     "output_type": "stream",
     "text": [
      "WARNING: AstropyDeprecationWarning: The update_default_config function is deprecated and may be removed in a future version. [sncosmo]\n"
     ]
    }
   ],
   "source": [
    "# All modules that  is needed.\n",
    "import os\n",
    "import numpy as np\n",
    "import pandas as pd\n",
    "import matplotlib.pyplot as plt\n",
    "%matplotlib inline   \n",
    "\n",
    "import rubin_sim.maf as maf\n",
    "from rubin_sim.maf.maps import dustMap\n",
    "#from rubin_sim.photUtils import Dust_values\n",
    "#from rubin_sim.maf.metrics import crowdingMetric\n",
    "\n",
    "\n",
    "\n",
    "\n",
    "from PulsatingStarRecovery_XLynne_blend import PulsatingStarRecovery"
   ]
  },
  {
   "cell_type": "code",
   "execution_count": 2,
   "id": "9b8c9a08-5bac-4a58-8ef7-63e04a279e50",
   "metadata": {},
   "outputs": [
    {
     "name": "stdout",
     "output_type": "stream",
     "text": [
      "/sims_maf/rubin_sim_data/sim_baseline/baseline_v2.0_10yrs.db\n",
      "baseline_v2.0_10yrs\n"
     ]
    }
   ],
   "source": [
    "from rubin_sim.data import get_baseline\n",
    "\n",
    "opsim_fname = get_baseline()\n",
    "print(opsim_fname)\n",
    "\n",
    "runName = os.path.split(opsim_fname)[-1].replace('.db', '')\n",
    "print(runName)\n",
    "\n",
    "\n",
    "#or take a new Opsim from the path (new http://astro-lsst-01.astro.washington.edu:8080/allMetricResults?runId=1)\n",
    "#opsim_fname='/sims_maf/fbs_2.0/baseline/baseline_v2.0_10yrs.db'\n",
    "#runName='baseline_v2.0_10yrs.db'\n",
    "\n",
    "\n"
   ]
  },
  {
   "cell_type": "code",
   "execution_count": 3,
   "id": "63c3ec9a-81b4-4b87-8ca6-c016c038731d",
   "metadata": {},
   "outputs": [],
   "source": [
    "# Connect to the database so we can use it with MAF.\n",
    "opsim_db = maf.OpsimDatabase(opsim_fname)\n",
    "#Finding available database columns with which to express constraints, slices, and metrics\n",
    "#opsim_db.get_column_names(\"observations\")\n"
   ]
  },
  {
   "cell_type": "code",
   "execution_count": 4,
   "id": "18c80dc6-4d55-421f-acb9-19af45a2f1d6",
   "metadata": {},
   "outputs": [],
   "source": [
    "# Specify ra / dec of the point we want to work with on the sky - in degrees. \n",
    "# (these can be lists, if you want to work on multiple, limited points on the sky)\n",
    "test_ra =270.8839167   \n",
    "test_dec =-30.0352667\n",
    "\n",
    "test_slicer = maf.UserPointsSlicer(test_ra, test_dec)\n",
    "#test_slicer = maf.OneDSlicer(test_ra, test_dec)\n",
    "maps = ['DustMap']\n",
    "\n",
    "\n",
    "#test_ra =270.8839167   \n",
    "#test_dec =-30.0352667\n",
    "#ra=72.000005\n",
    "#dec=-70.933132\n"
   ]
  },
  {
   "cell_type": "code",
   "execution_count": 5,
   "id": "62e7d772-3ad9-4d2f-8c82-ccd9599a28a2",
   "metadata": {},
   "outputs": [
    {
     "name": "stdout",
     "output_type": "stream",
     "text": [
      "           ra        dec    umag    gmag    rmag    imag    zmag    ymag  \\\n",
      "0  270.883756 -30.035409  29.475  26.248  24.683  23.300  22.587  22.217   \n",
      "1  270.883803 -30.035364  28.944  25.712  24.158  22.791  22.088  21.724   \n",
      "2  270.883866 -30.035426  24.411  21.688  20.454  19.935  19.599  19.417   \n",
      "3  270.884056 -30.035187  31.878  28.551  26.807  25.606  24.941  24.603   \n",
      "\n",
      "     mu0  gc   mass  \n",
      "0  14.35   4  0.607  \n",
      "1  13.90   4  0.611  \n",
      "2  15.05   4  1.042  \n",
      "3  16.00   1  0.466  \n"
     ]
    }
   ],
   "source": [
    "#This cell  build DataFrame df that contains  the  list of blending stars with magnitudes . Can be empty if you don't wont to consider blending or if you are offline.\n",
    "#In that case comment from import to print\n",
    "\n",
    "dati=[]\n",
    "df=pd.DataFrame(dati,columns=[])\n",
    "\n",
    "import dl.queryClient as qc\n",
    "test_ra = test_ra\n",
    "test_dec = test_dec\n",
    "table = 'lsst_sim.simdr2'\n",
    "radius = 0.0002\n",
    "query = \"select ra,dec,umag,gmag, rmag, imag, zmag, ymag, mu0, gc, mass from {} where q3c_radial_query(ra, dec, {}, {}, {})\".format(table,test_ra,test_dec,radius)\n",
    "df = qc.query(sql=query ,timeout=1000, fmt='pandas') \n",
    "print(df)\n",
    "\n",
    " "
   ]
  },
  {
   "cell_type": "code",
   "execution_count": 6,
   "id": "22a00de7-4c7d-47b8-82be-b830db25bf46",
   "metadata": {},
   "outputs": [
    {
     "name": "stdout",
     "output_type": "stream",
     "text": [
      "./RRc.csv\n"
     ]
    }
   ],
   "source": [
    "#parameters that must be inserted to run the metric PulsatingStarRecovery.py.Possible filenames are (https://github.com/MARCELLADC/PulsatingStarRecovery):\n",
    "#filename='./RRab.csv'\n",
    "#filename='./RRc.csv'\n",
    "#filename='./CEF1.csv'\n",
    "#filename='./CEF2.csv'\n",
    "#filename='./LPV1.csv'\n",
    "#filename='./LPV2.csv'\n",
    "filename='./RRc.csv'   #ascii file with the template of pulsating star\n",
    "dmod=14.5    #distance modulus\n",
    "sigmaFORnoise=1   # sigma for the computation of the error on the magnitude\n",
    "do_remove_saturated=True    #Remove from temporal series saurated visits  \n",
    "factorForDimensionGap=0.5  #parameter used in LcSampling \n",
    "numberOfHarmonics=3         #parameter used in LcFitting--suggested value for a RRC\n",
    "\n",
    "\n",
    "\n",
    "\n",
    "\n",
    "mymetric = PulsatingStarRecovery(filename,dmod,sigmaFORnoise,do_remove_saturated,numberOfHarmonics,factorForDimensionGap,df)\n",
    "#if you are interested in other metrics\n",
    "#maf.BaseMetric.help(doc=True)"
   ]
  },
  {
   "cell_type": "code",
   "execution_count": 7,
   "id": "3a01b3b2-8e03-49a8-9a8b-3fa601477ff6",
   "metadata": {},
   "outputs": [],
   "source": [
    "# Define a sqlconstraint, if we need to just use a (large) subset of the opsim visits\n",
    "#sqlconstraint = None   # no constraint, make all visits available\n",
    "\n",
    "# Examples of other potentially useful sqlconstraints:\n",
    "# sqlconstraint = 'filter = \"r\"'  # just select the visits in a particular filter\n",
    "# sqlconstraint = 'note not like \"%DD%\"'  # don't choose any of the DD field visits\n",
    "# sqlconstraint = 'night < 700'  # only use visits in the first year of the survey\n",
    "sqlconstraint = 'night < 365'"
   ]
  },
  {
   "cell_type": "code",
   "execution_count": 8,
   "id": "06a392ce-b613-499c-9975-a6c6ade4f4ce",
   "metadata": {},
   "outputs": [],
   "source": [
    "bundle = maf.MetricBundle(mymetric, test_slicer, sqlconstraint,maps)"
   ]
  },
  {
   "cell_type": "code",
   "execution_count": 14,
   "id": "e48d27c2-6606-4d9e-aa1a-bc3c64d44080",
   "metadata": {},
   "outputs": [
    {
     "name": "stdout",
     "output_type": "stream",
     "text": [
      "Querying database observations with constraint night < 365 for columns ['night', 'rotSkyPos', 'fiveSigmaDepth', 'airmass', 'fieldDec', 'fieldRA', 'filter', 'skyBrightness', 'seeingFwhmEff', 'visitExposureTime', 'observationStartMJD', 'numExposures']\n",
      "Found 215980 visits\n",
      "Running:  ['PulsatingStarRecovery']\n",
      "801 801\n",
      "Useful (at all S/N and NOT saturated)  Nvisits in ugrizy bands\n",
      "6 17 21 20 12 7\n",
      "Noise level (median vs mean)\n",
      "0.048485108140354206 0.07135772136673553\n",
      "Finding optimal frequency:\n",
      " - Estimated peak width = 0.0386\n",
      " - Using 5 steps per peak; omega_step = 0.00772\n",
      " - User-specified period range:  0.038 to 0.73\n",
      " - Computing periods at 20111 steps\n",
      "Zooming-in on 5 candidate peaks:\n",
      " - Computing periods at 1000 steps\n",
      "fitting...\n",
      "fitting g band\n",
      "fitting r band\n"
     ]
    },
    {
     "name": "stderr",
     "output_type": "stream",
     "text": [
      "/home/jail/dlusers/dicrisci/.local/lib/python3.8/site-packages/scipy/optimize/minpack.py:476: RuntimeWarning: Number of calls to function has reached maxfev = 1800.\n",
      "  warnings.warn(errors[info][0], RuntimeWarning)\n",
      "/home/jail/dlusers/dicrisci/GruppoMAF/CADENCENOTE/CADENCENOTE_userfriendly/GITHUB/PulsatingStarRecovery_light/PulsatingStarRecovery_XLynne_blend.py:381: RuntimeWarning: divide by zero encountered in log10\n",
      "  result=(-2.5)*np.log10(sum(flux)/len(flux))\n"
     ]
    },
    {
     "name": "stdout",
     "output_type": "stream",
     "text": [
      "fitting i band\n",
      "fitting z band\n",
      "801 801\n",
      "Useful (at all S/N and NOT saturated)  Nvisits in ugrizy bands\n",
      "6 17 21 20 12 7\n",
      "Noise level (median vs mean)\n",
      "0.04843506070175804 0.07169186079567834\n",
      "Finding optimal frequency:\n",
      " - Estimated peak width = 0.0386\n",
      " - Using 5 steps per peak; omega_step = 0.00772\n",
      " - User-specified period range:  0.038 to 0.73\n",
      " - Computing periods at 20111 steps\n",
      "Zooming-in on 5 candidate peaks:\n",
      " - Computing periods at 1000 steps\n",
      "fitting...\n",
      "fitting g band\n",
      "fitting r band\n",
      "fitting i band\n",
      "fitting z band\n",
      "Completed metric generation.\n",
      "Running reduce methods.\n",
      "Running summary statistics.\n",
      "Completed.\n"
     ]
    }
   ],
   "source": [
    "# Pass the bundle (along with any other bundles to be run on this opsim) to a MetricBundleGroup in order to\n",
    "# calculate the metric bundle values.\n",
    "g = maf.MetricBundleGroup({'PulsatingStarRecovery': bundle}, opsim_db, outDir='./', resultsDb=None)\n",
    "# And calculate the metric\n",
    "#from rubin_sim.maf.metrics import crowdingMetric\n",
    "#import time\n",
    "#start_time = time.time()\n",
    "g.runAll()\n",
    "#print(\"--- %s seconds ---\" % (time.time() - start_time))"
   ]
  },
  {
   "cell_type": "code",
   "execution_count": 12,
   "id": "ab26e509-af8e-4916-a94a-9946b3f87548",
   "metadata": {},
   "outputs": [
    {
     "data": {
      "text/plain": [
       "{'n_u': 6,\n",
       " 'n_g': 17,\n",
       " 'n_r': 21,\n",
       " 'n_i': 20,\n",
       " 'n_z': 12,\n",
       " 'n_y': 7,\n",
       " 'maxGap_u': 0.317661869500526,\n",
       " 'maxGap_g': 0.2957611530875166,\n",
       " 'maxGap_r': 0.2802475344223865,\n",
       " 'maxGap_i': 0.2146419526160921,\n",
       " 'maxGap_z': 0.18515559347166288,\n",
       " 'maxGap_y': 0.568672583296177,\n",
       " 'numberGaps_u': 3,\n",
       " 'numberGaps_g': 3,\n",
       " 'numberGaps_r': 2,\n",
       " 'numberGaps_i': 2,\n",
       " 'numberGaps_z': 5,\n",
       " 'numberGaps_y': 1,\n",
       " 'uniformity_u': 0.9417709681491805,\n",
       " 'uniformity_g': 0.8952268978971986,\n",
       " 'uniformity_r': 999.0,\n",
       " 'uniformity_i': 0.9407960732542342,\n",
       " 'uniformity_z': 0.9489222901119487,\n",
       " 'uniformity_y': 0.7572204330343884,\n",
       " 'uniformityKS_u': 0.28837163011627825,\n",
       " 'uniformityKS_g': 0.17827100420292735,\n",
       " 'uniformityKS_r': 0.14655159569848375,\n",
       " 'uniformityKS_i': 0.14728807482228062,\n",
       " 'uniformityKS_z': 0.15223552446933775,\n",
       " 'uniformityKS_y': 0.24527568298783614,\n",
       " 'P_gatpsy': 0.38351231737975466,\n",
       " 'Delta_Period': -1.5715091342682896e-06,\n",
       " 'Delta_Period_abs': 0.00040976589891470263,\n",
       " 'Delta_Period_abs_cicli': 9.652363864092238e-09,\n",
       " 'deltamag_u': -inf,\n",
       " 'deltamag_g': -0.020995167742910326,\n",
       " 'deltamag_r': 0.017046379201342887,\n",
       " 'deltamag_i': 0.007913353210000196,\n",
       " 'deltamag_z': 0.004781586160678586,\n",
       " 'deltamag_y': -inf,\n",
       " 'deltaamp_u': -9998.383285210666,\n",
       " 'deltaamp_g': 0.009138698817089619,\n",
       " 'deltaamp_r': -0.103922818946252,\n",
       " 'deltaamp_i': -0.03358855209583922,\n",
       " 'deltaamp_z': 0.001504550092985113,\n",
       " 'deltaamp_y': -9998.617451423259,\n",
       " 'chi_u': 9999.0,\n",
       " 'chi_g': 1.5207545477650271e-06,\n",
       " 'chi_r': 2.3650270734966478e-05,\n",
       " 'chi_i': 1.833144571524159e-05,\n",
       " 'chi_z': 6.980482072282835e-07,\n",
       " 'chi_y': 9999.0,\n",
       " 'P_gatpsy_blend': 0.38351231737975466,\n",
       " 'Delta_Period_blend': -1.5715091342682896e-06,\n",
       " 'Delta_Period_abs_blend': 0.00040976589891470263,\n",
       " 'Delta_Period_abs_cicli_blend': 9.652363864092238e-09,\n",
       " 'deltamag_u_blend': -inf,\n",
       " 'deltamag_g_blend': -0.038961811929048906,\n",
       " 'deltamag_r_blend': -0.15001993180246842,\n",
       " 'deltamag_i_blend': -0.031149342568038918,\n",
       " 'deltamag_z_blend': -0.03903519721408166,\n",
       " 'deltamag_y_blend': -inf,\n",
       " 'deltaamp_u_blend': -9998.38746982684,\n",
       " 'deltaamp_g_blend': -0.0034866232276122844,\n",
       " 'deltaamp_r_blend': -0.17747432161428378,\n",
       " 'deltaamp_i_blend': -0.048821502012200924,\n",
       " 'deltaamp_z_blend': -0.013965313867434048,\n",
       " 'deltaamp_y_blend': -9998.633662558754,\n",
       " 'chi_u_blend': 9999.0,\n",
       " 'chi_g_blend': 1.6052941005540323e-06,\n",
       " 'chi_r_blend': 2.318945091756749e-05,\n",
       " 'chi_i_blend': 1.847509047069184e-05,\n",
       " 'chi_z_blend': 6.953554175449396e-07,\n",
       " 'chi_y_blend': 9999.0}"
      ]
     },
     "execution_count": 12,
     "metadata": {},
     "output_type": "execute_result"
    }
   ],
   "source": [
    "bundle.metricValues.data[0]\n",
    "\n",
    "\n"
   ]
  },
  {
   "cell_type": "code",
   "execution_count": 13,
   "id": "c7e0b69d-0bed-4b95-a771-b80a2a3c8417",
   "metadata": {},
   "outputs": [
    {
     "name": "stdout",
     "output_type": "stream",
     "text": [
      "Plotting figures with \"night < 365\" constraint now.\n"
     ]
    },
    {
     "name": "stderr",
     "output_type": "stream",
     "text": [
      "/data0/sw/lsst_stack-2021.10.13/rubin_sim/rubin_sim/maf/plots/plotHandler.py:518: UserWarning: Cannot plot object metric values with this plotter.\n",
      "  warnings.warn('Cannot plot object metric values with this plotter.')\n",
      "/data0/sw/lsst_stack-2021.10.13/rubin_sim/rubin_sim/maf/plots/spatialPlotters.py:352: UserWarning: Histogram range was single-valued; expanding default range.\n",
      "  warnings.warn('Histogram range was single-valued; expanding default range.')\n",
      "/data0/sw/lsst_stack-2021.10.13/rubin_sim/rubin_sim/maf/utils/mafUtils.py:97: RuntimeWarning: invalid value encountered in double_scalars\n",
      "  nbins = (binmax - binmin) / binwidth\n",
      "/data0/sw/lsst_stack-2021.10.13/rubin_sim/rubin_sim/maf/utils/mafUtils.py:105: UserWarning: Optimal bin calculation calculated NaN: returning 200\n",
      "  warnings.warn('Optimal bin calculation calculated NaN: returning %i' %(nbinMax))\n"
     ]
    },
    {
     "name": "stdout",
     "output_type": "stream",
     "text": [
      "Plotting complete.\n"
     ]
    },
    {
     "data": {
      "image/png": "[encoded data removed]",
      "text/plain": [
       "<Figure size 432x288 with 2 Axes>"
      ]
     },
     "metadata": {
      "needs_background": "light"
     },
     "output_type": "display_data"
    },
    {
     "data": {
      "image/png": "[encoded data removed]",
      "text/plain": [
       "<Figure size 432x288 with 1 Axes>"
      ]
     },
     "metadata": {
      "needs_background": "light"
     },
     "output_type": "display_data"
    }
   ],
   "source": [
    "g.plotAll(closefigs=False)\n"
   ]
  },
  {
   "cell_type": "code",
   "execution_count": 13,
   "id": "1fbab620-ea37-4f00-9713-e39e28d244fa",
   "metadata": {},
   "outputs": [
    {
     "data": {
      "text/plain": [
       "'\\nTurning complex metrics into scalars with \"reduce\" functions\\n'"
      ]
     },
     "execution_count": 13,
     "metadata": {},
     "output_type": "execute_result"
    }
   ],
   "source": [
    "#Turning complex metrics into scalars with \"reduce\" functions\n"
   ]
  },
  {
   "cell_type": "code",
   "execution_count": null,
   "id": "42249c5a-0e4a-4743-adf0-227dd524d504",
   "metadata": {},
   "outputs": [],
   "source": []
  }
 ],
 "metadata": {
  "kernelspec": {
   "display_name": "LSST-2021.10.13 Py3",
   "language": "python",
   "name": "lsst_sims_maf-2021.10.13"
  },
  "language_info": {
   "codemirror_mode": {
    "name": "ipython",
    "version": 3
   },
   "file_extension": ".py",
   "mimetype": "text/x-python",
   "name": "python",
   "nbconvert_exporter": "python",
   "pygments_lexer": "ipython3",
   "version": "3.8.8"
  }
 },
 "nbformat": 4,
 "nbformat_minor": 5
}
